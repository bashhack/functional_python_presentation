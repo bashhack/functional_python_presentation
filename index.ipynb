{
 "cells": [
  {
   "cell_type": "markdown",
   "metadata": {
    "collapsed": true,
    "pycharm": {
     "name": "#%% md\n"
    }
   },
   "source": [
    "# Introduction to Functional Programming in Python\n",
    "\n",
    "Introduction to Functional Programming in Python is intended to provide a brief overview of the concepts, libraries, and techniques of functional programming in Python.\n",
    "\n",
    "All too often - functional programming can be seen as esoteric, or even too challenging to grok. The goal today is to start to dispel these myths - as it's the case that functional programming is simply another tool at our disposal - nothing more, nothing less. With a little bit of practice - and eye for the appropriate problems - you can start to incorporate the values of functional programming simply, slowly, and confidently.\n",
    "\n",
    "While we're at it - rest assured that while we may speak to some computer science terminology like *functors*, *modads*, and *point-free style*, the only pre-requisite here is some patience and a desire to learn.\n",
    "\n",
    "For those interested in knowing more, I'm happy to provide additional resources tailored to your fluency and needs, and encourage you to reach out at your convenience.\n",
    "\n",
    "## Historical Context\n",
    "\n",
    "When we talk about functional programming today, we're most often referring a set of techniques and their application (that is, a programming paradigm) divorced from their origin. It is sometimes helpful to get a sense of the lineage of these concepts and ideas, however.\n",
    "\n",
    "All of functional programming has its roots in the study of computation and mathematical logic, specifically in combinatorial logic and the lambda calculus.\n",
    "While the former can be traced to Moses Schönfinkel, a Russian logician, whose 1924 work on a formal logic based on the concept of a generalized function whose argument is also a function, its the later that we most often associate with the origins of functional programming.\n",
    "\n",
    "The lambda calculus is the nucleus for a great evolution of thought and discovery - developed as a Turing-complete, formal logic based on function abstraction and application. Through a series of defined rules (declaration, abstraction, and application), one can express all known and - theoretically - yet to be known computations.\n",
    "\n",
    "For now, we'll leave the math and philosophy there - and suffice to say, I encourage you to explore more if you're curious - for our purposes today, we just need to know that the lambda calculus served as the basis for a language known as Lisp.\n",
    "\n",
    "Developed in 1958 by logician and computer scientist, John McCarthy, Lisp was first defined in his seminal work: \"Recursive Functions of Symbolic Expressions and Their Computation by Machine, Part I\". In it, he borrowed from Church's calculus to prove out a Turing-complete language for computing algorithms.\n",
    "\n",
    "Created during his tenure at MIT - and funded in part by DARPA, who were by the mid-50s looking into the advancement of artificial intelligence - Lisp is among the oldest of all the programming languages and continues to be used today.\n",
    "\n",
    "## Python and Lisp\n",
    "\n",
    "From Lisp, the known universe of programming languages find their beginning. Famously, when Brendan Eich created JavaScript for Netscape in 1995, he aimed to write a language for the web based on Scheme (a Lisp dialect), but given the rapid rise of Sun Microsystem's Java in web programming pivots were made to include some C-syntax and inheritance modelling from Self - all in all, dressing up a Lisp in familiar syntax for mass market adoption.\n",
    "\n",
    "It's no surprise that the JavaScript ecosystem is rich with functional programming resources and advocates given its proximity to these early languages.\n",
    "\n",
    "But what about Python - does it share a similar origin? Some storied tale of Guido hitting the books and realizing it's just functions all the way down? No. Definitively no.\n",
    "\n",
    "Like other programming languages that are not 'purely' functional (a la Haskell, Elm, Idris, Agda, etc) - Python's own incorporation of functional programming tooling is the handiwork of a dedicated patchwork of engineers seeing a need and opportunity for the growth of the language. Most prominently, Raymond Hettinger and Nick Coghlan (both Python core devs), have created and contributed to a vast amount of the two most vital Python standard library modules for functional programming:\n",
    "\n",
    "- [itertools](https://docs.python.org/3/library/itertools.html)\n",
    "- [functools](https://docs.python.org/3/library/functools.html)\n",
    "\n",
    "We can absolutely demonstrate the value of functional programming and teach its core techniques without mentioning these modules - but, if you're going to be exploring or adding functional code to our code base, start here and you'll be well-served.\n",
    "\n",
    "Where does functional programming in Python fit in? While convenient to say 'Python is not a functional language' - this is a short-sighted and ill-informed statement. Python has many of the necessary tools for adequately robust functional programming - today, applications working with big data, real-time stream processing, ETL pipelines, and a formidable number of data science professionals use it everyday to solve real-world problems.\n",
    "\n",
    "It's critical to remember that functional programming - like object-oriented programming, or any other general development paradigm - is just another tool. It can and should be incorporated where appropriate. As with anything, there's costs and benefits to any programming approach - including those you may already be familiar with and use everyday.\n",
    "\n",
    "## First Steps\n",
    "\n",
    "Now that we have a general sense of the long journey to get to now - the question is where to begin in Python, specifically."
   ]
  }
 ],
 "metadata": {
  "kernelspec": {
   "display_name": "Python 3",
   "language": "python",
   "name": "python3"
  },
  "language_info": {
   "codemirror_mode": {
    "name": "ipython",
    "version": 3
   },
   "file_extension": ".py",
   "mimetype": "text/x-python",
   "name": "python",
   "nbconvert_exporter": "python",
   "pygments_lexer": "ipython3",
   "version": "3.8.1"
  }
 },
 "nbformat": 4,
 "nbformat_minor": 1
}