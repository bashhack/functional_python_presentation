{
 "cells": [
  {
   "cell_type": "markdown",
   "metadata": {
    "collapsed": true,
    "pycharm": {
     "name": "#%% md\n"
    }
   },
   "source": [
    "# Introduction to Functional Programming in Python\n",
    "\n",
    "Introduction to Functional Programming in Python is intended to provide a brief overview of the concepts, libraries, and techniques of functional programming in Python.\n",
    "\n",
    "All too often - functional programming can be seen as esoteric, or even too challenging to grok. The goal today is to start to dispel these myths - as it's the case that functional programming is simply another tool at our disposal - nothing more, nothing less. With a little bit of practice - and eye for the appropriate problems - you can start to incorporate the values of functional programming simply, slowly, and confidently.\n",
    "\n",
    "While we're at it - rest assured that while we may speak to some computer science terminology like *functors*, *modads*, and *point-free style*, the only pre-requisite here is some patience and a desire to learn.\n",
    "\n",
    "For those interested in knowing more, I'm happy to provide additional resources tailored to your fluency and needs, and encourage you to reach out at your convenience.\n",
    "\n",
    "## Historical Context\n",
    "\n",
    "When we talk about functional programming today, we're most often referring a set of techniques and their application (that is, a programming paradigm) divorced from their origin. It is sometimes helpful to get a sense of the lineage of these concepts and ideas, however.\n",
    "\n",
    "All of functional programming has its roots in the study of computation and mathematical logic, specifically in combinatorial logic and the lambda calculus.\n",
    "While the former can be traced to Moses Schönfinkel, a Russian logician, whose 1924 work on a formal logic based on the concept of a generalized function whose argument is also a function, its the later that we most often associate with the origins of functional programming.\n",
    "\n",
    "The lambda calculus is the nucleus for a great evolution of thought and discovery - developed as a Turing-complete, formal logic based on function abstraction and application. Through a series of defined rules (declaration, abstraction, and application), one can express all known and - theoretically - yet to be known computations.\n",
    "\n",
    "For now, we'll leave the math and philosophy there - and suffice to say, I encourage you to explore more if you're curious - for our purposes today, we just need to know that the lambda calculus served as the basis for a language known as Lisp.\n",
    "\n",
    "Developed in 1958 by logician and computer scientist, John McCarthy, Lisp was first defined in his seminal work: \"Recursive Functions of Symbolic Expressions and Their Computation by Machine, Part I\". In it, he borrowed from Church's calculus to prove out a Turing-complete language for computing algorithms.\n",
    "\n",
    "Created during his tenure at MIT - and funded in part by DARPA, who were by the mid-50s looking into the advancement of artificial intelligence - Lisp is among the oldest of all the programming languages and continues to be used today.\n",
    "\n",
    "## Python and Lisp\n",
    "\n",
    "From Lisp, the known universe of programming languages find their beginning. Famously, when Brendan Eich created JavaScript for Netscape in 1995, he aimed to write a language for the web based on Scheme (a Lisp dialect), but given the rapid rise of Sun Microsystem's Java in web programming pivots were made to include some C-syntax and inheritance modelling from Self - all in all, dressing up a Lisp in familiar syntax for mass market adoption.\n",
    "\n",
    "It's no surprise that the JavaScript ecosystem is rich with functional programming resources and advocates given its proximity to these early languages.\n",
    "\n",
    "But what about Python - does it share a similar origin? Some storied tale of Guido hitting the books and realizing it's just functions all the way down? No. Definitively no.\n",
    "\n",
    "Like other programming languages that are not 'purely' functional (a la Haskell, Elm, Idris, Agda, etc) - Python's own incorporation of functional programming tooling is the handiwork of a dedicated patchwork of engineers seeing a need and opportunity for the growth of the language. Most prominently, Raymond Hettinger and Nick Coghlan (both Python core devs), have created and contributed to a vast amount of the two most vital Python standard library modules for functional programming:\n",
    "\n",
    "- [itertools](https://docs.python.org/3/library/itertools.html)\n",
    "- [functools](https://docs.python.org/3/library/functools.html)\n",
    "\n",
    "We can absolutely demonstrate the value of functional programming and teach its core techniques without mentioning these modules - but, if you're going to be exploring or adding functional code to our code base, start here and you'll be well-served.\n",
    "\n",
    "Where does functional programming in Python fit in? While convenient to say 'Python is not a functional language' - this is a short-sighted and ill-informed statement. Python has many of the necessary tools for adequately robust functional programming - today, applications working with big data, real-time stream processing, ETL pipelines, and a formidable number of data science professionals use it everyday to solve real-world problems.\n",
    "\n",
    "It's critical to remember that functional programming - like object-oriented programming, or any other general development paradigm - is just another tool. It can and should be incorporated where appropriate. As with anything, there's costs and benefits to any programming approach - including those you may already be familiar with and use everyday.\n",
    "\n",
    "## Why Go Functional?\n",
    "\n",
    "There are many advantages to applying the fundamentals of a functional style, but among them the most tangible and immediate benefits can be summarized as such:\n",
    "\n",
    "- *functional code is modular*\n",
    "- *functional code is composable*\n",
    "- *functional code is easily tested*\n",
    "\n",
    "And, perhaps, most crucially - functional solutions lend themselves to less-stateful code (a primary source of logical bugs in all applications).\n",
    "\n",
    "Once familiar with the core functional patterns and principles, a developer can spot problems that are more concisely and correctly solved by working at a level of abstraction that simplifies complex operations into small, sound transformations of data.\n",
    "\n",
    "## First Steps\n",
    "\n",
    "Now that we have a general sense of the long journey to get to now - the question is where to begin in Python, specifically. With some code - of course!\n",
    "\n",
    "We'll start with the datatype that makes so much of functional programming in Python possible - the humble `iterator`. Put simply, an `iterator` is any object representing a stream of data. In Python we say that an iterator object supports the `iterator protocol` (that is, `__iter__()` and `__next__()`). Primary data types like `dict` or `list`, among others, are simply container objects around that shared protocol.\n",
    "\n",
    "Let's take a closer look:"
   ]
  },
  {
   "cell_type": "code",
   "execution_count": 22,
   "outputs": [
    {
     "data": {
      "text/plain": "<list_iterator at 0x7f3aeaeb6130>"
     },
     "execution_count": 22,
     "metadata": {},
     "output_type": "execute_result"
    }
   ],
   "source": [
    "a_list = ['functional', 'programming', 'is', 'rad']\n",
    "\n",
    "an_iterator_object = iter(a_list)\n",
    "\n",
    "an_iterator_object\n"
   ],
   "metadata": {
    "collapsed": false,
    "pycharm": {
     "name": "#%%\n"
    }
   }
  },
  {
   "cell_type": "code",
   "execution_count": 23,
   "outputs": [
    {
     "data": {
      "text/plain": "'rad'"
     },
     "execution_count": 23,
     "metadata": {},
     "output_type": "execute_result"
    }
   ],
   "source": [
    "an_iterator_object.__next__()\n",
    "\n",
    "next(an_iterator_object)\n",
    "\n",
    "next(an_iterator_object)\n",
    "\n",
    "next(an_iterator_object)"
   ],
   "metadata": {
    "collapsed": false,
    "pycharm": {
     "name": "#%%\n"
    }
   }
  },
  {
   "cell_type": "markdown",
   "source": [
    "So - what happens when we call `next()` again?"
   ],
   "metadata": {
    "collapsed": false,
    "pycharm": {
     "name": "#%% md\n"
    }
   }
  },
  {
   "cell_type": "code",
   "execution_count": null,
   "outputs": [],
   "source": [
    "next(an_iterator_object)"
   ],
   "metadata": {
    "collapsed": false,
    "pycharm": {
     "name": "#%%\n"
    }
   }
  },
  {
   "cell_type": "markdown",
   "source": [
    "How else can we traverse an `iterable`? How about the `for` statement?"
   ],
   "metadata": {
    "collapsed": false,
    "pycharm": {
     "name": "#%% md\n"
    }
   }
  },
  {
   "cell_type": "code",
   "execution_count": null,
   "outputs": [],
   "source": [
    "# for x in iter(xs):\n",
    "#     print(x)\n",
    "\n",
    "# Write your own example below:"
   ],
   "metadata": {
    "collapsed": false,
    "pycharm": {
     "name": "#%%\n"
    }
   }
  },
  {
   "cell_type": "markdown",
   "source": [
    "We can also work with iterable sequences via constructor functions like `list()` or `tuple()` - similarly, we can unpack an iterator, just as we might from those those data types:"
   ],
   "metadata": {
    "collapsed": false,
    "pycharm": {
     "name": "#%% md\n"
    }
   }
  },
  {
   "cell_type": "code",
   "execution_count": 54,
   "outputs": [
    {
     "data": {
      "text/plain": "('functional', 'programming', 'is', 'rad')"
     },
     "execution_count": 54,
     "metadata": {},
     "output_type": "execute_result"
    }
   ],
   "source": [
    "a_list = ['functional', 'programming', 'is', 'rad']\n",
    "an_iterator_object = iter(a_list)\n",
    "\n",
    "another_list = list(an_iterator_object)\n",
    "\n",
    "\n",
    "a_list = ['functional', 'programming', 'is', 'rad']\n",
    "an_iterator_object = iter(a_list)\n",
    "\n",
    "a_tuple = tuple(an_iterator_object)\n",
    "a_tuple\n",
    "\n",
    "\n",
    "a_list = ['functional', 'programming', 'is', 'rad']\n",
    "an_iterator_object = iter(a_list)\n",
    "\n",
    "foo, bar, baz, qix = an_iterator_object\n",
    "\n",
    "(foo, bar, baz, qix)"
   ],
   "metadata": {
    "collapsed": false,
    "pycharm": {
     "name": "#%%\n"
    }
   }
  },
  {
   "cell_type": "code",
   "execution_count": 63,
   "outputs": [
    {
     "data": {
      "text/plain": "'b'"
     },
     "execution_count": 63,
     "metadata": {},
     "output_type": "execute_result"
    }
   ],
   "source": [
    "a_dict = {'a': 1, 'b': 2, 'c': 3}\n",
    "\n",
    "an_iterator_object = iter(a_dict)\n",
    "\n",
    "next(an_iterator_object)\n",
    "next(an_iterator_object)\n",
    "\n",
    "# Well, that's not what we wanted! It looks like dict returns an iterator - but just the keys.\n",
    "# How else can we return an iterator from a dict? What about `values()` - can you think of others?\n"
   ],
   "metadata": {
    "collapsed": false,
    "pycharm": {
     "name": "#%%\n"
    }
   }
  },
  {
   "cell_type": "markdown",
   "source": [
    "If we looked at the Python source for the `list()` constructor - we'd see that it can take an iterator as it's argument.\n",
    "\n",
    "`dict()` can do the same with a stream of `(key, value)` tuples:"
   ],
   "metadata": {
    "collapsed": false,
    "pycharm": {
     "name": "#%% md\n"
    }
   }
  },
  {
   "cell_type": "code",
   "execution_count": 67,
   "outputs": [],
   "source": [
    "a_list_of_tuples = [('capps', ['mobile', 'ios', 'android']), ('internal_tools', ['migrations', 'integrations', 'performance optimization']), ('platform', ['admin', 'reports', 'pos', 'multi-currency'])]\n",
    "a_dict = dict(iter(a_list_of_tuples))"
   ],
   "metadata": {
    "collapsed": false,
    "pycharm": {
     "name": "#%%\n"
    }
   }
  },
  {
   "cell_type": "markdown",
   "source": [
    "Okay, so - we know Python has some notion of `iterator` - and it's important to functional programming - but how, again?\n",
    "\n",
    "The linking piece here is about how we interact with iterators - namely in the common operations we perform on them.\n",
    "\n",
    "Statements like *give me all elements in object foo that meet the criteria bar* or *do action baz for each element in object qix* are common expressions that should have you thinking:\n",
    "\n",
    "__I'm working with an iterable__\n",
    "\n",
    "Functional programming is deeply invested in the ability to perform generalized actions via function application over sequences - what we're really talking about here is the power of `functors`!\n",
    "\n",
    "Okay - now let's write some complex Haskell code to really grok this idea:"
   ],
   "metadata": {
    "collapsed": false,
    "pycharm": {
     "name": "#%% md\n"
    }
   }
  },
  {
   "cell_type": "code",
   "execution_count": null,
   "outputs": [],
   "source": [
    "# [x*2 | x <- [1..10]]\n",
    "# [x | x <- [1..4], () <- if even x then [()] else []]\n",
    "\n",
    "# Look familiar?"
   ],
   "metadata": {
    "collapsed": false,
    "pycharm": {
     "name": "#%%\n"
    }
   }
  },
  {
   "cell_type": "markdown",
   "source": [
    "What tomfoolery is this? That's right - you've all been writing a little bit of Haskell this whole time!"
   ],
   "metadata": {
    "collapsed": false,
    "pycharm": {
     "name": "#%% md\n"
    }
   }
  },
  {
   "cell_type": "code",
   "execution_count": null,
   "outputs": [],
   "source": [
    "# Translate the Haskell code from previous example into Python using a list comprehension:\n"
   ],
   "metadata": {
    "collapsed": false,
    "pycharm": {
     "name": "#%%\n"
    }
   }
  },
  {
   "cell_type": "markdown",
   "source": [
    "In addition to list comprehensions, we can also write a related, lazy variant that returns a `generator` object using a `generator expression`.\n",
    "\n",
    "Unlike a normal function that computes and returns its value(s) - generators return an iterator that returns a stream of values.\n",
    "And, unlike a normal Python function, a function using the `yield` keyword (i.e., a required keyword to create a generator function), can be 'restarted'.\n",
    "\n",
    "Calling a generator function returns a generator object (not a single value) that adheres to the iterator protocol. The next time the generator function is called - all internal\n",
    "execution and local variable assignment is retained and resumes computation using another call to `next()`.\n",
    "\n",
    "Let's look at an example:"
   ],
   "metadata": {
    "collapsed": false,
    "pycharm": {
     "name": "#%% md\n"
    }
   }
  },
  {
   "cell_type": "code",
   "execution_count": 98,
   "outputs": [
    {
     "ename": "StopIteration",
     "evalue": "",
     "output_type": "error",
     "traceback": [
      "\u001B[0;31m---------------------------------------------------------------------------\u001B[0m",
      "\u001B[0;31mStopIteration\u001B[0m                             Traceback (most recent call last)",
      "\u001B[0;32m<ipython-input-98-3bb6ca51ff83>\u001B[0m in \u001B[0;36m<module>\u001B[0;34m\u001B[0m\n\u001B[1;32m     11\u001B[0m \u001B[0mnext\u001B[0m\u001B[0;34m(\u001B[0m\u001B[0ma_generator\u001B[0m\u001B[0;34m)\u001B[0m\u001B[0;34m\u001B[0m\u001B[0;34m\u001B[0m\u001B[0m\n\u001B[1;32m     12\u001B[0m \u001B[0mnext\u001B[0m\u001B[0;34m(\u001B[0m\u001B[0ma_generator\u001B[0m\u001B[0;34m)\u001B[0m\u001B[0;34m\u001B[0m\u001B[0;34m\u001B[0m\u001B[0m\n\u001B[0;32m---> 13\u001B[0;31m \u001B[0mnext\u001B[0m\u001B[0;34m(\u001B[0m\u001B[0ma_generator\u001B[0m\u001B[0;34m)\u001B[0m\u001B[0;34m\u001B[0m\u001B[0;34m\u001B[0m\u001B[0m\n\u001B[0m\u001B[1;32m     14\u001B[0m \u001B[0;34m\u001B[0m\u001B[0m\n",
      "\u001B[0;31mStopIteration\u001B[0m: "
     ]
    }
   ],
   "source": [
    "def generator_func(num):\n",
    "    for x in range(num):\n",
    "        yield x\n",
    "\n",
    "a_generator = generator_func(5)\n",
    "a_generator\n",
    "\n",
    "next(a_generator)\n",
    "next(a_generator)\n",
    "next(a_generator)\n",
    "next(a_generator)\n",
    "next(a_generator)"
   ],
   "metadata": {
    "collapsed": false,
    "pycharm": {
     "name": "#%%\n"
    }
   }
  },
  {
   "cell_type": "markdown",
   "source": [
    "What are some places in our own codebase that we use generator expressions? How about list comprehensions?\n",
    "What do you notice about their usage - why were these 'functional' data structures used?\n",
    "\n",
    "## Let's Get Higher\n",
    "\n",
    "By moving up a layer in abstraction, we encounter two of the most common interfaces to the `iterator protocol`: `map()` and `filter()`.\n",
    "\n",
    "These - along with `reduce()` - form the trio of shared higher-order functions (i.e., fancy term for functions that take other functions as arguments, and returns a function as its result) that all functional languages or those languages that support first-class functional programming support. Python is no exception here.\n",
    "\n",
    "Both `map` and `filter` duplicate the key generator functions - they operate on iterables, return an iterator, and can perform an operation on each element in the container."
   ],
   "metadata": {
    "collapsed": false,
    "pycharm": {
     "name": "#%% md\n"
    }
   }
  },
  {
   "cell_type": "code",
   "execution_count": null,
   "outputs": [],
   "source": [
    "def yell(s):\n",
    "    return s.upper()\n",
    "\n",
    "map(yell, ['ahoy', 'iceberg ahead'])\n",
    "\n",
    "map(lambda s: s.lower(), ['CAN YOU HEAR ME', 'I THINK MY AUDIO IS OFF'])\n",
    "\n",
    "# What do these return? Was this what you expected?\n",
    "\n",
    "# How can we return an evaluated data type? Can you think of two ways?\n"
   ],
   "metadata": {
    "collapsed": false,
    "pycharm": {
     "name": "#%%\n"
    }
   }
  },
  {
   "cell_type": "markdown",
   "source": [
    "While `map` and `filter` are arguably the most widely-used higher-order functions when working in a functional style, there are others:\n",
    "\n",
    "- `filter(predicate, iter)`\n",
    "- `enumerate(iter, start=0)`\n",
    "- `sorted(iterable, key=None, reverse=False)`\n",
    "- `any(iter)`\n",
    "- `all(iter)`\n",
    "- `zip(iterA, iterB, ...)`\n",
    "\n",
    "Can you think of places we use these - we have examples of each. Think about why they were used - how else could they have been written?\n",
    "\n",
    "Are there places you can think of - front-end or back-end - where these higher-order functions could be used to simplify and express other data transformations?"
   ],
   "metadata": {
    "collapsed": false,
    "pycharm": {
     "name": "#%% md\n"
    }
   }
  }
 ],
 "metadata": {
  "kernelspec": {
   "display_name": "Python 3",
   "language": "python",
   "name": "python3"
  },
  "language_info": {
   "codemirror_mode": {
    "name": "ipython",
    "version": 3
   },
   "file_extension": ".py",
   "mimetype": "text/x-python",
   "name": "python",
   "nbconvert_exporter": "python",
   "pygments_lexer": "ipython3",
   "version": "3.8.1"
  }
 },
 "nbformat": 4,
 "nbformat_minor": 1
}